{
 "cells": [
  {
   "cell_type": "code",
   "execution_count": 15,
   "id": "dbbbdf29",
   "metadata": {},
   "outputs": [],
   "source": [
    "import glob\n",
    "import os\n",
    "import pandas as pd"
   ]
  },
  {
   "cell_type": "code",
   "execution_count": 17,
   "id": "f3210a4b",
   "metadata": {},
   "outputs": [],
   "source": [
    "Pathways = []\n",
    "\n",
    "#reading files that are csv files with the first column called gene and second pathway\n",
    "for file in glob.glob(\"[Path to file containing pathways under study]\\\\*\"):\n",
    "    Genes_Pathway_df = pd.read_csv(file)\n",
    "    Pathways.append(Genes_Pathways_df)\n",
    "    \n",
    "Genes_Pathways_df = pd.concat(Pathways)\n",
    "    \n",
    "    \n",
    "    \n",
    "patients= [1,5,8]\n",
    "for patient in patients:\n",
    "    #reading and formating the file\n",
    "    df = pd.read_csv (\"[Path to vsd values]\\\\Pt{pt}_vsd.csv\".format(pt=patient))\n",
    "    df.rename(columns={'Unnamed: 0': 'Gene'}, inplace=True)\n",
    "    \n",
    "    #selecting genes from specific pathway and creating a csv with rna-seq results for said pathway\n",
    "    for pathway in list(set(Genes_Pathways_df['Pathway'])):\n",
    "        Pathway_genes = Genes_Pathways_df.loc[Genes_Pathways_df['Pathway'] == pathway]\n",
    "        df_merged = Pathway_genes.merge(df, left_on='Gene', right_on='Gene',\n",
    "          suffixes=('_left', '_right'), how = 'inner')\n",
    "        df_merged =df_merged.drop(columns=[\"Pathway\"])\n",
    "        df_merged.to_csv(\"[Path to where to save formatted file]\\\\Pt{pt}_vsd_{pw}.csv\".format(pw =pathway, pt = patient), index=None)\n",
    "\n",
    "        \n",
    "    "
   ]
  },
  {
   "cell_type": "code",
   "execution_count": null,
   "id": "05b9d673",
   "metadata": {},
   "outputs": [],
   "source": []
  }
 ],
 "metadata": {
  "kernelspec": {
   "display_name": "Python 3 (ipykernel)",
   "language": "python",
   "name": "python3"
  },
  "language_info": {
   "codemirror_mode": {
    "name": "ipython",
    "version": 3
   },
   "file_extension": ".py",
   "mimetype": "text/x-python",
   "name": "python",
   "nbconvert_exporter": "python",
   "pygments_lexer": "ipython3",
   "version": "3.11.5"
  }
 },
 "nbformat": 4,
 "nbformat_minor": 5
}
